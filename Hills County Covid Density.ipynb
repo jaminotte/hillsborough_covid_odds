{
 "cells": [
  {
   "cell_type": "code",
   "execution_count": 252,
   "metadata": {},
   "outputs": [],
   "source": [
    "import pandas as pd\n",
    "import numpy as np\n",
    "import matplotlib\n",
    "import matplotlib.pyplot as plt\n",
    "\n",
    "url = \"https://raw.githubusercontent.com/nytimes/covid-19-data/master/us-counties.csv\" # covid case source data\n",
    "hillspop = 1471968 # population of hillsborough county florida for density calcs\n",
    "\n"
   ]
  },
  {
   "cell_type": "code",
   "execution_count": 254,
   "metadata": {},
   "outputs": [],
   "source": [
    "df = pd.read_csv(url) # read in the csv from the NYT"
   ]
  },
  {
   "cell_type": "code",
   "execution_count": 255,
   "metadata": {},
   "outputs": [
    {
     "data": {
      "text/html": [
       "<div>\n",
       "<style scoped>\n",
       "    .dataframe tbody tr th:only-of-type {\n",
       "        vertical-align: middle;\n",
       "    }\n",
       "\n",
       "    .dataframe tbody tr th {\n",
       "        vertical-align: top;\n",
       "    }\n",
       "\n",
       "    .dataframe thead th {\n",
       "        text-align: right;\n",
       "    }\n",
       "</style>\n",
       "<table border=\"1\" class=\"dataframe\">\n",
       "  <thead>\n",
       "    <tr style=\"text-align: right;\">\n",
       "      <th></th>\n",
       "      <th>date</th>\n",
       "      <th>county</th>\n",
       "      <th>state</th>\n",
       "      <th>fips</th>\n",
       "      <th>cases</th>\n",
       "      <th>deaths</th>\n",
       "    </tr>\n",
       "  </thead>\n",
       "  <tbody>\n",
       "    <tr>\n",
       "      <th>0</th>\n",
       "      <td>2020-01-21</td>\n",
       "      <td>Snohomish</td>\n",
       "      <td>Washington</td>\n",
       "      <td>53061.0</td>\n",
       "      <td>1</td>\n",
       "      <td>0.0</td>\n",
       "    </tr>\n",
       "    <tr>\n",
       "      <th>1</th>\n",
       "      <td>2020-01-22</td>\n",
       "      <td>Snohomish</td>\n",
       "      <td>Washington</td>\n",
       "      <td>53061.0</td>\n",
       "      <td>1</td>\n",
       "      <td>0.0</td>\n",
       "    </tr>\n",
       "    <tr>\n",
       "      <th>2</th>\n",
       "      <td>2020-01-23</td>\n",
       "      <td>Snohomish</td>\n",
       "      <td>Washington</td>\n",
       "      <td>53061.0</td>\n",
       "      <td>1</td>\n",
       "      <td>0.0</td>\n",
       "    </tr>\n",
       "    <tr>\n",
       "      <th>3</th>\n",
       "      <td>2020-01-24</td>\n",
       "      <td>Cook</td>\n",
       "      <td>Illinois</td>\n",
       "      <td>17031.0</td>\n",
       "      <td>1</td>\n",
       "      <td>0.0</td>\n",
       "    </tr>\n",
       "    <tr>\n",
       "      <th>4</th>\n",
       "      <td>2020-01-24</td>\n",
       "      <td>Snohomish</td>\n",
       "      <td>Washington</td>\n",
       "      <td>53061.0</td>\n",
       "      <td>1</td>\n",
       "      <td>0.0</td>\n",
       "    </tr>\n",
       "  </tbody>\n",
       "</table>\n",
       "</div>"
      ],
      "text/plain": [
       "         date     county       state     fips  cases  deaths\n",
       "0  2020-01-21  Snohomish  Washington  53061.0      1     0.0\n",
       "1  2020-01-22  Snohomish  Washington  53061.0      1     0.0\n",
       "2  2020-01-23  Snohomish  Washington  53061.0      1     0.0\n",
       "3  2020-01-24       Cook    Illinois  17031.0      1     0.0\n",
       "4  2020-01-24  Snohomish  Washington  53061.0      1     0.0"
      ]
     },
     "execution_count": 255,
     "metadata": {},
     "output_type": "execute_result"
    }
   ],
   "source": [
    "df.head() # ensure that worked"
   ]
  },
  {
   "cell_type": "code",
   "execution_count": 256,
   "metadata": {},
   "outputs": [],
   "source": [
    "df = df.iloc[12500:] # clear out the early data with little relevance for hills. county"
   ]
  },
  {
   "cell_type": "code",
   "execution_count": 257,
   "metadata": {},
   "outputs": [],
   "source": [
    "df_florida = df.loc[df['state'] == 'Florida'] # filter down to just Florida"
   ]
  },
  {
   "cell_type": "code",
   "execution_count": 258,
   "metadata": {},
   "outputs": [],
   "source": [
    "df_hills  = df_florida.loc[df['county'] == 'Hillsborough'] # filter down to just Hillsborough County"
   ]
  },
  {
   "cell_type": "code",
   "execution_count": 259,
   "metadata": {},
   "outputs": [
    {
     "name": "stderr",
     "output_type": "stream",
     "text": [
      "/anaconda3/lib/python3.7/site-packages/ipykernel_launcher.py:4: SettingWithCopyWarning: \n",
      "A value is trying to be set on a copy of a slice from a DataFrame.\n",
      "Try using .loc[row_indexer,col_indexer] = value instead\n",
      "\n",
      "See the caveats in the documentation: https://pandas.pydata.org/pandas-docs/stable/user_guide/indexing.html#returning-a-view-versus-a-copy\n",
      "  after removing the cwd from sys.path.\n"
     ]
    }
   ],
   "source": [
    "# the dataset has cumulative cases\n",
    "# we want daily new cases, so create real_cases with just the daily number\n",
    "\n",
    "df_hills['real_cases'] = df_hills.iloc[:,4].diff()"
   ]
  },
  {
   "cell_type": "code",
   "execution_count": 260,
   "metadata": {},
   "outputs": [
    {
     "data": {
      "text/html": [
       "<div>\n",
       "<style scoped>\n",
       "    .dataframe tbody tr th:only-of-type {\n",
       "        vertical-align: middle;\n",
       "    }\n",
       "\n",
       "    .dataframe tbody tr th {\n",
       "        vertical-align: top;\n",
       "    }\n",
       "\n",
       "    .dataframe thead th {\n",
       "        text-align: right;\n",
       "    }\n",
       "</style>\n",
       "<table border=\"1\" class=\"dataframe\">\n",
       "  <thead>\n",
       "    <tr style=\"text-align: right;\">\n",
       "      <th></th>\n",
       "      <th>date</th>\n",
       "      <th>county</th>\n",
       "      <th>state</th>\n",
       "      <th>fips</th>\n",
       "      <th>cases</th>\n",
       "      <th>deaths</th>\n",
       "      <th>real_cases</th>\n",
       "    </tr>\n",
       "  </thead>\n",
       "  <tbody>\n",
       "    <tr>\n",
       "      <th>784559</th>\n",
       "      <td>2020-12-01</td>\n",
       "      <td>Hillsborough</td>\n",
       "      <td>Florida</td>\n",
       "      <td>12057.0</td>\n",
       "      <td>58749</td>\n",
       "      <td>933.0</td>\n",
       "      <td>456.0</td>\n",
       "    </tr>\n",
       "    <tr>\n",
       "      <th>787803</th>\n",
       "      <td>2020-12-02</td>\n",
       "      <td>Hillsborough</td>\n",
       "      <td>Florida</td>\n",
       "      <td>12057.0</td>\n",
       "      <td>59270</td>\n",
       "      <td>938.0</td>\n",
       "      <td>521.0</td>\n",
       "    </tr>\n",
       "    <tr>\n",
       "      <th>791049</th>\n",
       "      <td>2020-12-03</td>\n",
       "      <td>Hillsborough</td>\n",
       "      <td>Florida</td>\n",
       "      <td>12057.0</td>\n",
       "      <td>59809</td>\n",
       "      <td>947.0</td>\n",
       "      <td>539.0</td>\n",
       "    </tr>\n",
       "    <tr>\n",
       "      <th>794295</th>\n",
       "      <td>2020-12-04</td>\n",
       "      <td>Hillsborough</td>\n",
       "      <td>Florida</td>\n",
       "      <td>12057.0</td>\n",
       "      <td>60241</td>\n",
       "      <td>955.0</td>\n",
       "      <td>432.0</td>\n",
       "    </tr>\n",
       "    <tr>\n",
       "      <th>797540</th>\n",
       "      <td>2020-12-05</td>\n",
       "      <td>Hillsborough</td>\n",
       "      <td>Florida</td>\n",
       "      <td>12057.0</td>\n",
       "      <td>60761</td>\n",
       "      <td>959.0</td>\n",
       "      <td>520.0</td>\n",
       "    </tr>\n",
       "  </tbody>\n",
       "</table>\n",
       "</div>"
      ],
      "text/plain": [
       "              date        county    state     fips  cases  deaths  real_cases\n",
       "784559  2020-12-01  Hillsborough  Florida  12057.0  58749   933.0       456.0\n",
       "787803  2020-12-02  Hillsborough  Florida  12057.0  59270   938.0       521.0\n",
       "791049  2020-12-03  Hillsborough  Florida  12057.0  59809   947.0       539.0\n",
       "794295  2020-12-04  Hillsborough  Florida  12057.0  60241   955.0       432.0\n",
       "797540  2020-12-05  Hillsborough  Florida  12057.0  60761   959.0       520.0"
      ]
     },
     "execution_count": 260,
     "metadata": {},
     "output_type": "execute_result"
    }
   ],
   "source": [
    "df_hills.tail() # how's it looking?"
   ]
  },
  {
   "cell_type": "code",
   "execution_count": 261,
   "metadata": {},
   "outputs": [
    {
     "name": "stderr",
     "output_type": "stream",
     "text": [
      "/anaconda3/lib/python3.7/site-packages/ipykernel_launcher.py:5: SettingWithCopyWarning: \n",
      "A value is trying to be set on a copy of a slice from a DataFrame.\n",
      "Try using .loc[row_indexer,col_indexer] = value instead\n",
      "\n",
      "See the caveats in the documentation: https://pandas.pydata.org/pandas-docs/stable/user_guide/indexing.html#returning-a-view-versus-a-copy\n",
      "  \"\"\"\n"
     ]
    }
   ],
   "source": [
    "# to get active cases, we need to make an assumption for how long a person is infected\n",
    "# for this, 2 weeks was assumed the infected period\n",
    "# so, a rolling 2 week sum will provide something like an active case count\n",
    "\n",
    "df_hills['2wk_case_sum'] = df_hills.iloc[:,6].rolling(window=14).sum()"
   ]
  },
  {
   "cell_type": "code",
   "execution_count": 264,
   "metadata": {},
   "outputs": [
    {
     "name": "stderr",
     "output_type": "stream",
     "text": [
      "/anaconda3/lib/python3.7/site-packages/ipykernel_launcher.py:1: SettingWithCopyWarning: \n",
      "A value is trying to be set on a copy of a slice from a DataFrame.\n",
      "Try using .loc[row_indexer,col_indexer] = value instead\n",
      "\n",
      "See the caveats in the documentation: https://pandas.pydata.org/pandas-docs/stable/user_guide/indexing.html#returning-a-view-versus-a-copy\n",
      "  \"\"\"Entry point for launching an IPython kernel.\n"
     ]
    }
   ],
   "source": [
    "df_hills['pop'] = hillspop # add in the population of Hillsborough County"
   ]
  },
  {
   "cell_type": "code",
   "execution_count": 265,
   "metadata": {},
   "outputs": [
    {
     "data": {
      "text/html": [
       "<div>\n",
       "<style scoped>\n",
       "    .dataframe tbody tr th:only-of-type {\n",
       "        vertical-align: middle;\n",
       "    }\n",
       "\n",
       "    .dataframe tbody tr th {\n",
       "        vertical-align: top;\n",
       "    }\n",
       "\n",
       "    .dataframe thead th {\n",
       "        text-align: right;\n",
       "    }\n",
       "</style>\n",
       "<table border=\"1\" class=\"dataframe\">\n",
       "  <thead>\n",
       "    <tr style=\"text-align: right;\">\n",
       "      <th></th>\n",
       "      <th>date</th>\n",
       "      <th>county</th>\n",
       "      <th>state</th>\n",
       "      <th>fips</th>\n",
       "      <th>cases</th>\n",
       "      <th>deaths</th>\n",
       "      <th>real_cases</th>\n",
       "      <th>2wk_case_sum</th>\n",
       "      <th>pop</th>\n",
       "    </tr>\n",
       "  </thead>\n",
       "  <tbody>\n",
       "    <tr>\n",
       "      <th>784559</th>\n",
       "      <td>2020-12-01</td>\n",
       "      <td>Hillsborough</td>\n",
       "      <td>Florida</td>\n",
       "      <td>12057.0</td>\n",
       "      <td>58749</td>\n",
       "      <td>933.0</td>\n",
       "      <td>456.0</td>\n",
       "      <td>5317.0</td>\n",
       "      <td>1471968</td>\n",
       "    </tr>\n",
       "    <tr>\n",
       "      <th>787803</th>\n",
       "      <td>2020-12-02</td>\n",
       "      <td>Hillsborough</td>\n",
       "      <td>Florida</td>\n",
       "      <td>12057.0</td>\n",
       "      <td>59270</td>\n",
       "      <td>938.0</td>\n",
       "      <td>521.0</td>\n",
       "      <td>5370.0</td>\n",
       "      <td>1471968</td>\n",
       "    </tr>\n",
       "    <tr>\n",
       "      <th>791049</th>\n",
       "      <td>2020-12-03</td>\n",
       "      <td>Hillsborough</td>\n",
       "      <td>Florida</td>\n",
       "      <td>12057.0</td>\n",
       "      <td>59809</td>\n",
       "      <td>947.0</td>\n",
       "      <td>539.0</td>\n",
       "      <td>5483.0</td>\n",
       "      <td>1471968</td>\n",
       "    </tr>\n",
       "    <tr>\n",
       "      <th>794295</th>\n",
       "      <td>2020-12-04</td>\n",
       "      <td>Hillsborough</td>\n",
       "      <td>Florida</td>\n",
       "      <td>12057.0</td>\n",
       "      <td>60241</td>\n",
       "      <td>955.0</td>\n",
       "      <td>432.0</td>\n",
       "      <td>5449.0</td>\n",
       "      <td>1471968</td>\n",
       "    </tr>\n",
       "    <tr>\n",
       "      <th>797540</th>\n",
       "      <td>2020-12-05</td>\n",
       "      <td>Hillsborough</td>\n",
       "      <td>Florida</td>\n",
       "      <td>12057.0</td>\n",
       "      <td>60761</td>\n",
       "      <td>959.0</td>\n",
       "      <td>520.0</td>\n",
       "      <td>5504.0</td>\n",
       "      <td>1471968</td>\n",
       "    </tr>\n",
       "  </tbody>\n",
       "</table>\n",
       "</div>"
      ],
      "text/plain": [
       "              date        county    state     fips  cases  deaths  real_cases  \\\n",
       "784559  2020-12-01  Hillsborough  Florida  12057.0  58749   933.0       456.0   \n",
       "787803  2020-12-02  Hillsborough  Florida  12057.0  59270   938.0       521.0   \n",
       "791049  2020-12-03  Hillsborough  Florida  12057.0  59809   947.0       539.0   \n",
       "794295  2020-12-04  Hillsborough  Florida  12057.0  60241   955.0       432.0   \n",
       "797540  2020-12-05  Hillsborough  Florida  12057.0  60761   959.0       520.0   \n",
       "\n",
       "        2wk_case_sum      pop  \n",
       "784559        5317.0  1471968  \n",
       "787803        5370.0  1471968  \n",
       "791049        5483.0  1471968  \n",
       "794295        5449.0  1471968  \n",
       "797540        5504.0  1471968  "
      ]
     },
     "execution_count": 265,
     "metadata": {},
     "output_type": "execute_result"
    }
   ],
   "source": [
    "df_hills.tail() # how's it look?"
   ]
  },
  {
   "cell_type": "code",
   "execution_count": 266,
   "metadata": {},
   "outputs": [
    {
     "name": "stderr",
     "output_type": "stream",
     "text": [
      "/anaconda3/lib/python3.7/site-packages/ipykernel_launcher.py:1: SettingWithCopyWarning: \n",
      "A value is trying to be set on a copy of a slice from a DataFrame.\n",
      "Try using .loc[row_indexer,col_indexer] = value instead\n",
      "\n",
      "See the caveats in the documentation: https://pandas.pydata.org/pandas-docs/stable/user_guide/indexing.html#returning-a-view-versus-a-copy\n",
      "  \"\"\"Entry point for launching an IPython kernel.\n"
     ]
    }
   ],
   "source": [
    "df_hills['case_rate'] = (df_hills['2wk_case_sum']/df_hills['pop']) # create a case rate field"
   ]
  },
  {
   "cell_type": "code",
   "execution_count": 267,
   "metadata": {},
   "outputs": [
    {
     "name": "stderr",
     "output_type": "stream",
     "text": [
      "/anaconda3/lib/python3.7/site-packages/ipykernel_launcher.py:4: SettingWithCopyWarning: \n",
      "A value is trying to be set on a copy of a slice from a DataFrame.\n",
      "Try using .loc[row_indexer,col_indexer] = value instead\n",
      "\n",
      "See the caveats in the documentation: https://pandas.pydata.org/pandas-docs/stable/user_guide/indexing.html#returning-a-view-versus-a-copy\n",
      "  after removing the cwd from sys.path.\n"
     ]
    }
   ],
   "source": [
    "# percentages can by difficult for people to really conceptualize\n",
    "# here, a field is created to describe the odds instead i.e. 1 in every 150 people are currently infected\n",
    "\n",
    "df_hills['case_odds'] = (1/df_hills['case_rate']).round()"
   ]
  },
  {
   "cell_type": "code",
   "execution_count": 268,
   "metadata": {},
   "outputs": [
    {
     "data": {
      "text/html": [
       "<div>\n",
       "<style scoped>\n",
       "    .dataframe tbody tr th:only-of-type {\n",
       "        vertical-align: middle;\n",
       "    }\n",
       "\n",
       "    .dataframe tbody tr th {\n",
       "        vertical-align: top;\n",
       "    }\n",
       "\n",
       "    .dataframe thead th {\n",
       "        text-align: right;\n",
       "    }\n",
       "</style>\n",
       "<table border=\"1\" class=\"dataframe\">\n",
       "  <thead>\n",
       "    <tr style=\"text-align: right;\">\n",
       "      <th></th>\n",
       "      <th>date</th>\n",
       "      <th>county</th>\n",
       "      <th>state</th>\n",
       "      <th>fips</th>\n",
       "      <th>cases</th>\n",
       "      <th>deaths</th>\n",
       "      <th>real_cases</th>\n",
       "      <th>2wk_case_sum</th>\n",
       "      <th>pop</th>\n",
       "      <th>case_rate</th>\n",
       "      <th>case_odds</th>\n",
       "    </tr>\n",
       "  </thead>\n",
       "  <tbody>\n",
       "    <tr>\n",
       "      <th>784559</th>\n",
       "      <td>2020-12-01</td>\n",
       "      <td>Hillsborough</td>\n",
       "      <td>Florida</td>\n",
       "      <td>12057.0</td>\n",
       "      <td>58749</td>\n",
       "      <td>933.0</td>\n",
       "      <td>456.0</td>\n",
       "      <td>5317.0</td>\n",
       "      <td>1471968</td>\n",
       "      <td>0.003612</td>\n",
       "      <td>277.0</td>\n",
       "    </tr>\n",
       "    <tr>\n",
       "      <th>787803</th>\n",
       "      <td>2020-12-02</td>\n",
       "      <td>Hillsborough</td>\n",
       "      <td>Florida</td>\n",
       "      <td>12057.0</td>\n",
       "      <td>59270</td>\n",
       "      <td>938.0</td>\n",
       "      <td>521.0</td>\n",
       "      <td>5370.0</td>\n",
       "      <td>1471968</td>\n",
       "      <td>0.003648</td>\n",
       "      <td>274.0</td>\n",
       "    </tr>\n",
       "    <tr>\n",
       "      <th>791049</th>\n",
       "      <td>2020-12-03</td>\n",
       "      <td>Hillsborough</td>\n",
       "      <td>Florida</td>\n",
       "      <td>12057.0</td>\n",
       "      <td>59809</td>\n",
       "      <td>947.0</td>\n",
       "      <td>539.0</td>\n",
       "      <td>5483.0</td>\n",
       "      <td>1471968</td>\n",
       "      <td>0.003725</td>\n",
       "      <td>268.0</td>\n",
       "    </tr>\n",
       "    <tr>\n",
       "      <th>794295</th>\n",
       "      <td>2020-12-04</td>\n",
       "      <td>Hillsborough</td>\n",
       "      <td>Florida</td>\n",
       "      <td>12057.0</td>\n",
       "      <td>60241</td>\n",
       "      <td>955.0</td>\n",
       "      <td>432.0</td>\n",
       "      <td>5449.0</td>\n",
       "      <td>1471968</td>\n",
       "      <td>0.003702</td>\n",
       "      <td>270.0</td>\n",
       "    </tr>\n",
       "    <tr>\n",
       "      <th>797540</th>\n",
       "      <td>2020-12-05</td>\n",
       "      <td>Hillsborough</td>\n",
       "      <td>Florida</td>\n",
       "      <td>12057.0</td>\n",
       "      <td>60761</td>\n",
       "      <td>959.0</td>\n",
       "      <td>520.0</td>\n",
       "      <td>5504.0</td>\n",
       "      <td>1471968</td>\n",
       "      <td>0.003739</td>\n",
       "      <td>267.0</td>\n",
       "    </tr>\n",
       "  </tbody>\n",
       "</table>\n",
       "</div>"
      ],
      "text/plain": [
       "              date        county    state     fips  cases  deaths  real_cases  \\\n",
       "784559  2020-12-01  Hillsborough  Florida  12057.0  58749   933.0       456.0   \n",
       "787803  2020-12-02  Hillsborough  Florida  12057.0  59270   938.0       521.0   \n",
       "791049  2020-12-03  Hillsborough  Florida  12057.0  59809   947.0       539.0   \n",
       "794295  2020-12-04  Hillsborough  Florida  12057.0  60241   955.0       432.0   \n",
       "797540  2020-12-05  Hillsborough  Florida  12057.0  60761   959.0       520.0   \n",
       "\n",
       "        2wk_case_sum      pop  case_rate  case_odds  \n",
       "784559        5317.0  1471968   0.003612      277.0  \n",
       "787803        5370.0  1471968   0.003648      274.0  \n",
       "791049        5483.0  1471968   0.003725      268.0  \n",
       "794295        5449.0  1471968   0.003702      270.0  \n",
       "797540        5504.0  1471968   0.003739      267.0  "
      ]
     },
     "execution_count": 268,
     "metadata": {},
     "output_type": "execute_result"
    }
   ],
   "source": [
    "df_hills.tail()"
   ]
  },
  {
   "cell_type": "code",
   "execution_count": 269,
   "metadata": {},
   "outputs": [],
   "source": [
    "covid_odds_plot = df_hills.iloc[75:,[0,10]] # slim down the set"
   ]
  },
  {
   "cell_type": "code",
   "execution_count": 232,
   "metadata": {},
   "outputs": [
    {
     "data": {
      "text/html": [
       "<div>\n",
       "<style scoped>\n",
       "    .dataframe tbody tr th:only-of-type {\n",
       "        vertical-align: middle;\n",
       "    }\n",
       "\n",
       "    .dataframe tbody tr th {\n",
       "        vertical-align: top;\n",
       "    }\n",
       "\n",
       "    .dataframe thead th {\n",
       "        text-align: right;\n",
       "    }\n",
       "</style>\n",
       "<table border=\"1\" class=\"dataframe\">\n",
       "  <thead>\n",
       "    <tr style=\"text-align: right;\">\n",
       "      <th></th>\n",
       "      <th>date</th>\n",
       "      <th>case_odds</th>\n",
       "    </tr>\n",
       "  </thead>\n",
       "  <tbody>\n",
       "    <tr>\n",
       "      <th>221858</th>\n",
       "      <td>2020-06-09</td>\n",
       "      <td>1543.0</td>\n",
       "    </tr>\n",
       "    <tr>\n",
       "      <th>224955</th>\n",
       "      <td>2020-06-10</td>\n",
       "      <td>1426.0</td>\n",
       "    </tr>\n",
       "    <tr>\n",
       "      <th>228058</th>\n",
       "      <td>2020-06-11</td>\n",
       "      <td>1274.0</td>\n",
       "    </tr>\n",
       "    <tr>\n",
       "      <th>231163</th>\n",
       "      <td>2020-06-12</td>\n",
       "      <td>1201.0</td>\n",
       "    </tr>\n",
       "    <tr>\n",
       "      <th>234270</th>\n",
       "      <td>2020-06-13</td>\n",
       "      <td>1071.0</td>\n",
       "    </tr>\n",
       "    <tr>\n",
       "      <th>...</th>\n",
       "      <td>...</td>\n",
       "      <td>...</td>\n",
       "    </tr>\n",
       "    <tr>\n",
       "      <th>778069</th>\n",
       "      <td>2020-11-29</td>\n",
       "      <td>284.0</td>\n",
       "    </tr>\n",
       "    <tr>\n",
       "      <th>781316</th>\n",
       "      <td>2020-11-30</td>\n",
       "      <td>288.0</td>\n",
       "    </tr>\n",
       "    <tr>\n",
       "      <th>784562</th>\n",
       "      <td>2020-12-01</td>\n",
       "      <td>277.0</td>\n",
       "    </tr>\n",
       "    <tr>\n",
       "      <th>787807</th>\n",
       "      <td>2020-12-02</td>\n",
       "      <td>274.0</td>\n",
       "    </tr>\n",
       "    <tr>\n",
       "      <th>791053</th>\n",
       "      <td>2020-12-03</td>\n",
       "      <td>268.0</td>\n",
       "    </tr>\n",
       "  </tbody>\n",
       "</table>\n",
       "<p>178 rows × 2 columns</p>\n",
       "</div>"
      ],
      "text/plain": [
       "              date  case_odds\n",
       "221858  2020-06-09     1543.0\n",
       "224955  2020-06-10     1426.0\n",
       "228058  2020-06-11     1274.0\n",
       "231163  2020-06-12     1201.0\n",
       "234270  2020-06-13     1071.0\n",
       "...            ...        ...\n",
       "778069  2020-11-29      284.0\n",
       "781316  2020-11-30      288.0\n",
       "784562  2020-12-01      277.0\n",
       "787807  2020-12-02      274.0\n",
       "791053  2020-12-03      268.0\n",
       "\n",
       "[178 rows x 2 columns]"
      ]
     },
     "execution_count": 232,
     "metadata": {},
     "output_type": "execute_result"
    }
   ],
   "source": [
    "covid_odds_plot"
   ]
  },
  {
   "cell_type": "code",
   "execution_count": 270,
   "metadata": {},
   "outputs": [
    {
     "data": {
      "image/png": "[encoded data removed]",
      "text/plain": [
       "<Figure size 1080x576 with 1 Axes>"
      ]
     },
     "metadata": {
      "needs_background": "light"
     },
     "output_type": "display_data"
    }
   ],
   "source": [
    "# Plot\n",
    "x = covid_odds_plot.iloc[:,0]\n",
    "y = covid_odds_plot.iloc[:,1]\n",
    "\n",
    "fig, ax = plt.subplots(figsize=(15,8))\n",
    "ax.plot(x, y)\n",
    "\n",
    "\n",
    "ax.set(xlabel='Date', ylabel='Odds of Covid Case',\n",
    "       title='Hillsborough County Covid Odds')\n",
    "ax.grid()\n",
    "\n",
    "fig.savefig(\"test.png\")\n",
    "plt.show()\n"
   ]
  },
  {
   "cell_type": "code",
   "execution_count": 248,
   "metadata": {},
   "outputs": [],
   "source": [
    "# define some key statistics\n",
    "\n",
    "data_current_through = covid_odds_plot.date.max()\n",
    "worst_odds = covid_odds_plot.case_odds.min()\n",
    "worst_odds_date = 'a'\n",
    "current_odds = 'b'"
   ]
  },
  {
   "cell_type": "code",
   "execution_count": 271,
   "metadata": {},
   "outputs": [
    {
     "name": "stdout",
     "output_type": "stream",
     "text": [
      "data current through  2020-12-03\n",
      "worst odds so far  151.0\n"
     ]
    }
   ],
   "source": [
    "# start laying out the story\n",
    "\n",
    "print('data current through ',data_current_through)\n",
    "print('worst odds so far ',worst_odds)\n"
   ]
  }
 ],
 "metadata": {
  "kernelspec": {
   "display_name": "Python 3",
   "language": "python",
   "name": "python3"
  },
  "language_info": {
   "codemirror_mode": {
    "name": "ipython",
    "version": 3
   },
   "file_extension": ".py",
   "mimetype": "text/x-python",
   "name": "python",
   "nbconvert_exporter": "python",
   "pygments_lexer": "ipython3",
   "version": "3.7.3"
  }
 },
 "nbformat": 4,
 "nbformat_minor": 4
}
