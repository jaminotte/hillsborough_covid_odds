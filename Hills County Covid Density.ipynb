{
 "cells": [
  {
   "cell_type": "code",
   "execution_count": 1,
   "metadata": {},
   "outputs": [],
   "source": [
    "import pandas as pd\n",
    "import numpy as np\n",
    "import matplotlib\n",
    "import matplotlib.pyplot as plt\n",
    "import matplotlib.dates as mdates\n",
    "\n",
    "url = \"https://raw.githubusercontent.com/nytimes/covid-19-data/master/us-counties.csv\" # covid case source data\n",
    "hillspop = 1471968 # population of hillsborough county florida for density calcs\n",
    "\n"
   ]
  },
  {
   "cell_type": "code",
   "execution_count": 2,
   "metadata": {},
   "outputs": [],
   "source": [
    "df = pd.read_csv(url) # read in the csv from the NYT"
   ]
  },
  {
   "cell_type": "code",
   "execution_count": 3,
   "metadata": {},
   "outputs": [
    {
     "data": {
      "text/html": [
       "<div>\n",
       "<style scoped>\n",
       "    .dataframe tbody tr th:only-of-type {\n",
       "        vertical-align: middle;\n",
       "    }\n",
       "\n",
       "    .dataframe tbody tr th {\n",
       "        vertical-align: top;\n",
       "    }\n",
       "\n",
       "    .dataframe thead th {\n",
       "        text-align: right;\n",
       "    }\n",
       "</style>\n",
       "<table border=\"1\" class=\"dataframe\">\n",
       "  <thead>\n",
       "    <tr style=\"text-align: right;\">\n",
       "      <th></th>\n",
       "      <th>date</th>\n",
       "      <th>county</th>\n",
       "      <th>state</th>\n",
       "      <th>fips</th>\n",
       "      <th>cases</th>\n",
       "      <th>deaths</th>\n",
       "    </tr>\n",
       "  </thead>\n",
       "  <tbody>\n",
       "    <tr>\n",
       "      <th>0</th>\n",
       "      <td>2020-01-21</td>\n",
       "      <td>Snohomish</td>\n",
       "      <td>Washington</td>\n",
       "      <td>53061.0</td>\n",
       "      <td>1</td>\n",
       "      <td>0.0</td>\n",
       "    </tr>\n",
       "    <tr>\n",
       "      <th>1</th>\n",
       "      <td>2020-01-22</td>\n",
       "      <td>Snohomish</td>\n",
       "      <td>Washington</td>\n",
       "      <td>53061.0</td>\n",
       "      <td>1</td>\n",
       "      <td>0.0</td>\n",
       "    </tr>\n",
       "    <tr>\n",
       "      <th>2</th>\n",
       "      <td>2020-01-23</td>\n",
       "      <td>Snohomish</td>\n",
       "      <td>Washington</td>\n",
       "      <td>53061.0</td>\n",
       "      <td>1</td>\n",
       "      <td>0.0</td>\n",
       "    </tr>\n",
       "    <tr>\n",
       "      <th>3</th>\n",
       "      <td>2020-01-24</td>\n",
       "      <td>Cook</td>\n",
       "      <td>Illinois</td>\n",
       "      <td>17031.0</td>\n",
       "      <td>1</td>\n",
       "      <td>0.0</td>\n",
       "    </tr>\n",
       "    <tr>\n",
       "      <th>4</th>\n",
       "      <td>2020-01-24</td>\n",
       "      <td>Snohomish</td>\n",
       "      <td>Washington</td>\n",
       "      <td>53061.0</td>\n",
       "      <td>1</td>\n",
       "      <td>0.0</td>\n",
       "    </tr>\n",
       "  </tbody>\n",
       "</table>\n",
       "</div>"
      ],
      "text/plain": [
       "         date     county       state     fips  cases  deaths\n",
       "0  2020-01-21  Snohomish  Washington  53061.0      1     0.0\n",
       "1  2020-01-22  Snohomish  Washington  53061.0      1     0.0\n",
       "2  2020-01-23  Snohomish  Washington  53061.0      1     0.0\n",
       "3  2020-01-24       Cook    Illinois  17031.0      1     0.0\n",
       "4  2020-01-24  Snohomish  Washington  53061.0      1     0.0"
      ]
     },
     "execution_count": 3,
     "metadata": {},
     "output_type": "execute_result"
    }
   ],
   "source": [
    "df.head() # ensure that worked"
   ]
  },
  {
   "cell_type": "code",
   "execution_count": 4,
   "metadata": {},
   "outputs": [],
   "source": [
    "df = df.iloc[12500:] # clear out the early data with little relevance for hills. county"
   ]
  },
  {
   "cell_type": "code",
   "execution_count": 5,
   "metadata": {},
   "outputs": [],
   "source": [
    "df_florida = df.loc[df['state'] == 'Florida'] # filter down to just Florida\n",
    "df_hills  = df_florida.loc[df['county'] == 'Hillsborough'] # filter down to just Hillsborough County"
   ]
  },
  {
   "cell_type": "code",
   "execution_count": 6,
   "metadata": {},
   "outputs": [],
   "source": [
    "# the dataset has cumulative cases\n",
    "# we want daily new cases, so create real_cases with just the daily number\n",
    "df_hills = df_hills.assign(real_cases = df_hills.loc[:,'cases'].diff())\n",
    "\n"
   ]
  },
  {
   "cell_type": "code",
   "execution_count": 7,
   "metadata": {},
   "outputs": [],
   "source": [
    "# to get active cases, we need to make an assumption for how long a person is infected\n",
    "# for this, 2 weeks was assumed the infected period\n",
    "# so, a rolling 2 week sum will provide something like an active case count\n",
    "\n",
    "# df_hills['2wk_case_sum'] = df_hills.iloc[:,6].rolling(window=14).sum()\n",
    "\n",
    "df_hills = df_hills.assign(two_wk_case_sum = df_hills.loc[:,'real_cases'].rolling(window = 14).sum())"
   ]
  },
  {
   "cell_type": "code",
   "execution_count": 8,
   "metadata": {},
   "outputs": [],
   "source": [
    "# add in the population of Hillsborough County\n",
    "\n",
    "df_hills = df_hills.assign(pop = hillspop)"
   ]
  },
  {
   "cell_type": "code",
   "execution_count": 9,
   "metadata": {},
   "outputs": [],
   "source": [
    "# create a case rate field\n",
    "\n",
    "df_hills = df_hills.assign(case_rate = df_hills['two_wk_case_sum']/df_hills['pop']) "
   ]
  },
  {
   "cell_type": "code",
   "execution_count": 10,
   "metadata": {},
   "outputs": [],
   "source": [
    "# percentages can by difficult for people to really conceptualize\n",
    "# here, a field is created to describe the odds instead i.e. 1 in every 150 people are currently infected\n",
    "\n",
    "df_hills = df_hills.assign(case_odds = (1/df_hills['case_rate']).round())"
   ]
  },
  {
   "cell_type": "code",
   "execution_count": 11,
   "metadata": {},
   "outputs": [
    {
     "data": {
      "text/html": [
       "<div>\n",
       "<style scoped>\n",
       "    .dataframe tbody tr th:only-of-type {\n",
       "        vertical-align: middle;\n",
       "    }\n",
       "\n",
       "    .dataframe tbody tr th {\n",
       "        vertical-align: top;\n",
       "    }\n",
       "\n",
       "    .dataframe thead th {\n",
       "        text-align: right;\n",
       "    }\n",
       "</style>\n",
       "<table border=\"1\" class=\"dataframe\">\n",
       "  <thead>\n",
       "    <tr style=\"text-align: right;\">\n",
       "      <th></th>\n",
       "      <th>date</th>\n",
       "      <th>county</th>\n",
       "      <th>state</th>\n",
       "      <th>fips</th>\n",
       "      <th>cases</th>\n",
       "      <th>deaths</th>\n",
       "      <th>real_cases</th>\n",
       "      <th>two_wk_case_sum</th>\n",
       "      <th>pop</th>\n",
       "      <th>case_rate</th>\n",
       "      <th>case_odds</th>\n",
       "    </tr>\n",
       "  </thead>\n",
       "  <tbody>\n",
       "    <tr>\n",
       "      <th>800786</th>\n",
       "      <td>2020-12-06</td>\n",
       "      <td>Hillsborough</td>\n",
       "      <td>Florida</td>\n",
       "      <td>12057.0</td>\n",
       "      <td>61276</td>\n",
       "      <td>960.0</td>\n",
       "      <td>515.0</td>\n",
       "      <td>5794.0</td>\n",
       "      <td>1471968</td>\n",
       "      <td>0.003936</td>\n",
       "      <td>254.0</td>\n",
       "    </tr>\n",
       "    <tr>\n",
       "      <th>804032</th>\n",
       "      <td>2020-12-07</td>\n",
       "      <td>Hillsborough</td>\n",
       "      <td>Florida</td>\n",
       "      <td>12057.0</td>\n",
       "      <td>61599</td>\n",
       "      <td>967.0</td>\n",
       "      <td>323.0</td>\n",
       "      <td>5764.0</td>\n",
       "      <td>1471968</td>\n",
       "      <td>0.003916</td>\n",
       "      <td>255.0</td>\n",
       "    </tr>\n",
       "    <tr>\n",
       "      <th>807277</th>\n",
       "      <td>2020-12-08</td>\n",
       "      <td>Hillsborough</td>\n",
       "      <td>Florida</td>\n",
       "      <td>12057.0</td>\n",
       "      <td>62149</td>\n",
       "      <td>969.0</td>\n",
       "      <td>550.0</td>\n",
       "      <td>5983.0</td>\n",
       "      <td>1471968</td>\n",
       "      <td>0.004065</td>\n",
       "      <td>246.0</td>\n",
       "    </tr>\n",
       "    <tr>\n",
       "      <th>810522</th>\n",
       "      <td>2020-12-09</td>\n",
       "      <td>Hillsborough</td>\n",
       "      <td>Florida</td>\n",
       "      <td>12057.0</td>\n",
       "      <td>62439</td>\n",
       "      <td>972.0</td>\n",
       "      <td>290.0</td>\n",
       "      <td>5942.0</td>\n",
       "      <td>1471968</td>\n",
       "      <td>0.004037</td>\n",
       "      <td>248.0</td>\n",
       "    </tr>\n",
       "    <tr>\n",
       "      <th>813766</th>\n",
       "      <td>2020-12-10</td>\n",
       "      <td>Hillsborough</td>\n",
       "      <td>Florida</td>\n",
       "      <td>12057.0</td>\n",
       "      <td>63339</td>\n",
       "      <td>977.0</td>\n",
       "      <td>900.0</td>\n",
       "      <td>6842.0</td>\n",
       "      <td>1471968</td>\n",
       "      <td>0.004648</td>\n",
       "      <td>215.0</td>\n",
       "    </tr>\n",
       "  </tbody>\n",
       "</table>\n",
       "</div>"
      ],
      "text/plain": [
       "              date        county    state     fips  cases  deaths  real_cases  \\\n",
       "800786  2020-12-06  Hillsborough  Florida  12057.0  61276   960.0       515.0   \n",
       "804032  2020-12-07  Hillsborough  Florida  12057.0  61599   967.0       323.0   \n",
       "807277  2020-12-08  Hillsborough  Florida  12057.0  62149   969.0       550.0   \n",
       "810522  2020-12-09  Hillsborough  Florida  12057.0  62439   972.0       290.0   \n",
       "813766  2020-12-10  Hillsborough  Florida  12057.0  63339   977.0       900.0   \n",
       "\n",
       "        two_wk_case_sum      pop  case_rate  case_odds  \n",
       "800786           5794.0  1471968   0.003936      254.0  \n",
       "804032           5764.0  1471968   0.003916      255.0  \n",
       "807277           5983.0  1471968   0.004065      246.0  \n",
       "810522           5942.0  1471968   0.004037      248.0  \n",
       "813766           6842.0  1471968   0.004648      215.0  "
      ]
     },
     "execution_count": 11,
     "metadata": {},
     "output_type": "execute_result"
    }
   ],
   "source": [
    "df_hills.tail() #how's it look?"
   ]
  },
  {
   "cell_type": "code",
   "execution_count": 12,
   "metadata": {},
   "outputs": [],
   "source": [
    "# slim down the set to start 6/1 and just date and case odds fields\n",
    "\n",
    "covid_odds_plot = df_hills.iloc[67:,:].loc[:,['date','case_odds']]\n",
    "\n"
   ]
  },
  {
   "cell_type": "code",
   "execution_count": 13,
   "metadata": {},
   "outputs": [
    {
     "data": {
      "text/html": [
       "<div>\n",
       "<style scoped>\n",
       "    .dataframe tbody tr th:only-of-type {\n",
       "        vertical-align: middle;\n",
       "    }\n",
       "\n",
       "    .dataframe tbody tr th {\n",
       "        vertical-align: top;\n",
       "    }\n",
       "\n",
       "    .dataframe thead th {\n",
       "        text-align: right;\n",
       "    }\n",
       "</style>\n",
       "<table border=\"1\" class=\"dataframe\">\n",
       "  <thead>\n",
       "    <tr style=\"text-align: right;\">\n",
       "      <th></th>\n",
       "      <th>date</th>\n",
       "      <th>case_odds</th>\n",
       "    </tr>\n",
       "  </thead>\n",
       "  <tbody>\n",
       "    <tr>\n",
       "      <th>197185</th>\n",
       "      <td>2020-06-01</td>\n",
       "      <td>2461.0</td>\n",
       "    </tr>\n",
       "    <tr>\n",
       "      <th>200258</th>\n",
       "      <td>2020-06-02</td>\n",
       "      <td>2393.0</td>\n",
       "    </tr>\n",
       "    <tr>\n",
       "      <th>203334</th>\n",
       "      <td>2020-06-03</td>\n",
       "      <td>2161.0</td>\n",
       "    </tr>\n",
       "    <tr>\n",
       "      <th>206414</th>\n",
       "      <td>2020-06-04</td>\n",
       "      <td>2067.0</td>\n",
       "    </tr>\n",
       "    <tr>\n",
       "      <th>209496</th>\n",
       "      <td>2020-06-05</td>\n",
       "      <td>1927.0</td>\n",
       "    </tr>\n",
       "    <tr>\n",
       "      <th>...</th>\n",
       "      <td>...</td>\n",
       "      <td>...</td>\n",
       "    </tr>\n",
       "    <tr>\n",
       "      <th>800786</th>\n",
       "      <td>2020-12-06</td>\n",
       "      <td>254.0</td>\n",
       "    </tr>\n",
       "    <tr>\n",
       "      <th>804032</th>\n",
       "      <td>2020-12-07</td>\n",
       "      <td>255.0</td>\n",
       "    </tr>\n",
       "    <tr>\n",
       "      <th>807277</th>\n",
       "      <td>2020-12-08</td>\n",
       "      <td>246.0</td>\n",
       "    </tr>\n",
       "    <tr>\n",
       "      <th>810522</th>\n",
       "      <td>2020-12-09</td>\n",
       "      <td>248.0</td>\n",
       "    </tr>\n",
       "    <tr>\n",
       "      <th>813766</th>\n",
       "      <td>2020-12-10</td>\n",
       "      <td>215.0</td>\n",
       "    </tr>\n",
       "  </tbody>\n",
       "</table>\n",
       "<p>193 rows × 2 columns</p>\n",
       "</div>"
      ],
      "text/plain": [
       "              date  case_odds\n",
       "197185  2020-06-01     2461.0\n",
       "200258  2020-06-02     2393.0\n",
       "203334  2020-06-03     2161.0\n",
       "206414  2020-06-04     2067.0\n",
       "209496  2020-06-05     1927.0\n",
       "...            ...        ...\n",
       "800786  2020-12-06      254.0\n",
       "804032  2020-12-07      255.0\n",
       "807277  2020-12-08      246.0\n",
       "810522  2020-12-09      248.0\n",
       "813766  2020-12-10      215.0\n",
       "\n",
       "[193 rows x 2 columns]"
      ]
     },
     "execution_count": 13,
     "metadata": {},
     "output_type": "execute_result"
    }
   ],
   "source": [
    "covid_odds_plot"
   ]
  },
  {
   "cell_type": "code",
   "execution_count": 14,
   "metadata": {},
   "outputs": [
    {
     "data": {
      "image/png": "[encoded data removed]",
      "text/plain": [
       "<Figure size 1080x576 with 1 Axes>"
      ]
     },
     "metadata": {
      "needs_background": "light"
     },
     "output_type": "display_data"
    }
   ],
   "source": [
    "# Plot\n",
    "x = covid_odds_plot.iloc[:,0]\n",
    "y = covid_odds_plot.iloc[:,1]\n",
    "\n",
    "fig, ax = plt.subplots(figsize=(15,8))\n",
    "ax.plot(x, y)\n",
    "\n",
    "\n",
    "ax.set(xlabel='Date', ylabel='Odds of Covid Case',\n",
    "       title='Hillsborough County Covid Odds')\n",
    "\n",
    "# ax.locator_params(nbins=100, axis='x')\n",
    "# plt.locator_params(axis='x', nbins=6)\n",
    "# ax.grid()\n",
    "# ax.xaxis.set_major_locator(ticker.MaxNLocator(4))\n",
    "# ax.xaxis.set_major_locator(ticker.LinearLocator(3))\n",
    "\n",
    "years = mdates.YearLocator()   # every year\n",
    "months = mdates.MonthLocator()  # every month\n",
    "years_fmt = mdates.DateFormatter('%Y')\n",
    "\n",
    "ax.xaxis.set_major_locator(months)\n",
    "ax.xaxis.set_minor_locator(months)\n",
    "\n",
    "# datemin = np.datetime64(covid_odds_plot['date'][0], 'Y')\n",
    "# datemax = np.datetime64(data['date'][-1], 'Y') + np.timedelta64(1, 'Y')\n",
    "# ax.set_xlim(datemin, datemax)\n",
    "\n",
    "fig.savefig(\"test.png\")\n",
    "plt.show()\n"
   ]
  },
  {
   "cell_type": "code",
   "execution_count": 15,
   "metadata": {},
   "outputs": [],
   "source": [
    "# define some key statistics\n",
    "\n",
    "data_current_through = covid_odds_plot.date.max()\n",
    "worst_odds = covid_odds_plot.case_odds.min()\n",
    "worst_odds_date = 'a'\n",
    "current_odds = covid_odds_plot['case_odds'].iloc[-1]"
   ]
  },
  {
   "cell_type": "code",
   "execution_count": 16,
   "metadata": {},
   "outputs": [
    {
     "name": "stdout",
     "output_type": "stream",
     "text": [
      "Hillsborough County, Florida summary through  2020-12-10\n",
      "\n",
      "Worst odds so far were 1 in  151.0  people infected\n",
      "The current odds are 1 in  215.0\n"
     ]
    }
   ],
   "source": [
    "# start laying out the story\n",
    "\n",
    "print('Hillsborough County, Florida summary through ',data_current_through)\n",
    "print()\n",
    "print('Worst odds so far were 1 in ',worst_odds,' people infected')\n",
    "print('The current odds are 1 in ',current_odds)\n"
   ]
  },
  {
   "cell_type": "code",
   "execution_count": null,
   "metadata": {},
   "outputs": [],
   "source": []
  }
 ],
 "metadata": {
  "kernelspec": {
   "display_name": "Python 3",
   "language": "python",
   "name": "python3"
  },
  "language_info": {
   "codemirror_mode": {
    "name": "ipython",
    "version": 3
   },
   "file_extension": ".py",
   "mimetype": "text/x-python",
   "name": "python",
   "nbconvert_exporter": "python",
   "pygments_lexer": "ipython3",
   "version": "3.7.3"
  }
 },
 "nbformat": 4,
 "nbformat_minor": 4
}
